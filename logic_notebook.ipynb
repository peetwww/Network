{
 "metadata": {
  "language_info": {
   "codemirror_mode": {
    "name": "ipython",
    "version": 3
   },
   "file_extension": ".py",
   "mimetype": "text/x-python",
   "name": "python",
   "nbconvert_exporter": "python",
   "pygments_lexer": "ipython3",
   "version": "3.9.1"
  },
  "orig_nbformat": 2,
  "kernelspec": {
   "name": "python391jvsc74a57bd0dc1b67c8dfed84be5ca2dd263a3125fa05a4ee43f4d44cf335d028e6f689d6ea",
   "display_name": "Python 3.9.1 64-bit"
  },
  "metadata": {
   "interpreter": {
    "hash": "dc1b67c8dfed84be5ca2dd263a3125fa05a4ee43f4d44cf335d028e6f689d6ea"
   }
  }
 },
 "nbformat": 4,
 "nbformat_minor": 2,
 "cells": [
  {
   "cell_type": "code",
   "execution_count": null,
   "metadata": {},
   "outputs": [],
   "source": [
    "from logic import *\n",
    "import termcolor"
   ]
  },
  {
   "cell_type": "code",
   "execution_count": null,
   "metadata": {},
   "outputs": [],
   "source": [
    "message1 = Symbol(\"โปรแกรมแสดงข้อความ Number Format Exception\")\n",
    "message2 = Symbol(\"โปรแกรมแสดงข้อความ Divided by zero\")\n",
    "message3 = Symbol(\"โปรแกรมแสดงข้อความ Segmentation Fault\")\n",
    "message4 = Symbol(\"โปรแกรมแสดงข้อความ Low Memory\")\n",
    "randomErorr1 = Symbol(\"โปรแกรมมีข้อผิดพลาดในคำสั่ง Random r = new Random(Double.parseDouble(x))\")\n",
    "randomErorr2 = Symbol(\"โปรแกรมมีข้อผิดพลาดในคำสั่ง double y = a / b;\")\n",
    "randomErorr3 = symbol(\"โปรแกรมมีข้อผิดพลาดในคำสั่ง Object o = new Object()\")"
   ]
  },
  {
   "cell_type": "code",
   "execution_count": null,
   "metadata": {},
   "outputs": [],
   "source": [
    "knowledge = And(\n",
    "    Implication(Not(message1), Not(randomErorr1)),\n",
    "    Implication(message2, randomErorr2),\n",
    "    Implication(message3, randomErorr1),\n",
    "    and(message4, Not(message1)),\n",
    "    or(message3, randomErorr3)\n",
    ")"
   ]
  },
  {
   "cell_type": "code",
   "execution_count": null,
   "metadata": {},
   "outputs": [],
   "source": [
    "symbols = [randomErorr1, randomErorr2, randomErorr3]"
   ]
  },
  {
   "cell_type": "code",
   "execution_count": null,
   "metadata": {},
   "outputs": [],
   "source": [
    "def check_knowledge(knowledge):\n",
    "    for s in symbols:\n",
    "        if model_check(knowledge, s):\n",
    "            termcolor.cprint(f\"{s}\", \"green\")\n",
    "\n"
   ]
  },
  {
   "cell_type": "code",
   "execution_count": null,
   "metadata": {},
   "outputs": [],
   "source": [
    "check_knowledge(knowledge)"
   ]
  }
 ]
}